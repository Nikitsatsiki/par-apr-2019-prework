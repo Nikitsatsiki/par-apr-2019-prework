{
 "cells": [
  {
   "cell_type": "markdown",
   "metadata": {},
   "source": [
    "# Snail and well\n",
    "\n",
    "A snail falls at the bottom of a 125 cm well. Each day the snail rises 30 cm. But at night, while sleeping, slides 20 cm because the walls are wet. How many days does it take to escape from the well?\n",
    "\n",
    "TIP: http://puzzles.nigelcoldwell.co.uk/sixtytwo.htm"
   ]
  },
  {
   "cell_type": "markdown",
   "metadata": {},
   "source": [
    "## Solución"
   ]
  },
  {
   "cell_type": "code",
   "execution_count": 9,
   "metadata": {},
   "outputs": [
    {
     "name": "stdout",
     "output_type": "stream",
     "text": [
      "Days = 10\n"
     ]
    }
   ],
   "source": [
    "# Assign problem data to variables with representative names\n",
    "# well height, daily advance, night retreat, accumulated distance\n",
    "well_height = 125 #cm\n",
    "daily_rise = 30 #cm     meaning daily advance\n",
    "nightly_fall = 20 #cm   meaning night retreat\n",
    "progress = 0 #cm        meaning accumulated disctance\n",
    "\n",
    "# Assign 0 to the variable that represents the solution\n",
    "days = 0 \n",
    "\n",
    "# Write the code that solves the problem\n",
    "while progress<=well_height:\n",
    "    progress = progress+daily_rise\n",
    "    if progress<well_height:\n",
    "        days+=1\n",
    "        progress=progress-nightly_fall\n",
    "    else:\n",
    "        break\n",
    "\n",
    "# Print the result with print('Days =', days)\n",
    "print('Days =', days)"
   ]
  },
  {
   "cell_type": "markdown",
   "metadata": {},
   "source": [
    "## Goals\n",
    "\n",
    "1. Treatment of variables\n",
    "2. Use of loop **while**\n",
    "3. Use of conditional **if-else**\n",
    "4. Print in console"
   ]
  },
  {
   "cell_type": "markdown",
   "metadata": {},
   "source": [
    "## Bonus\n",
    "The distance traveled by the snail is now defined by a list.\n",
    "```\n",
    "advance_cm = [30, 21, 33, 77, 44, 45, 23, 45, 12, 34, 55]\n",
    "```\n",
    "How long does it take to raise the well?\n",
    "\n",
    "What is its maximum displacement in one day? And its minimum?\n",
    "\n",
    "What is its average speed during the day?\n",
    "\n",
    "What is the standard deviation of its displacement during the day?"
   ]
  },
  {
   "cell_type": "code",
   "execution_count": 68,
   "metadata": {},
   "outputs": [
    {
     "name": "stdout",
     "output_type": "stream",
     "text": [
      "Days = 5\n",
      "Maximum displacement = 57\n",
      "Minimum displacement = -8\n",
      "Average progress = 18.09090909090909\n",
      "Standard deviation = 17.159437082600803\n"
     ]
    }
   ],
   "source": [
    "import math\n",
    "# Assign problem data to variables with representative names\n",
    "# well height, daily advance, night retreat, accumulated distance\n",
    "well_height = 125\n",
    "advance_cm = [30, 21, 33, 77, 44, 45, 23, 45, 12, 34, 55]\n",
    "night_retreat = 20\n",
    "accumulated_distance = 0\n",
    "\n",
    "# Assign 0 to the variable that represents the solution\n",
    "days = 0\n",
    "\n",
    "# Write the code that solves the problem \n",
    "i = 0\n",
    "while well_height>=accumulated_distance:\n",
    "    accumulated_distance=accumulated_distance+advance_cm[i]\n",
    "    #print(accumulated_distance, advance_cm[i])\n",
    "    i+=1\n",
    "    if accumulated_distance<=well_height:\n",
    "        days+=1\n",
    "        accumulated_distance=accumulated_distance-night_retreat\n",
    "        \n",
    "    \n",
    "    \n",
    "        \n",
    "\n",
    "# Print the result with print('Days =', days)\n",
    "print('Days =', days)\n",
    "\n",
    "\n",
    "# What is its maximum displacement in a day? And its minimum?\n",
    "night = []\n",
    "for i in range((len(advance_cm))):\n",
    "    night.append(20)\n",
    "    \n",
    "displacement = []\n",
    "for i in range((len(advance_cm))):\n",
    "    displacement.append(advance_cm[i]-night[i])\n",
    "     \n",
    "print(\"Maximum displacement =\", max(displacement))\n",
    "print(\"Minimum displacement =\", min(displacement))\n",
    "\n",
    "# What is its average progress?\n",
    "ave=sum(displacement)/len(displacement)\n",
    "print(\"Average progress =\", ave)\n",
    "\n",
    "# What is the standard deviation of your displacement during the day?\n",
    "dis_of_mean = []\n",
    "for i in range(len(displacement)):\n",
    "    dis_of_mean.append(displacement[i]-ave)\n",
    "squared = []\n",
    "for i in range(len(dis_of_mean)):\n",
    "    squared.append(dis_of_mean[i]*dis_of_mean[i])\n",
    "standard_dev=sum(squared)/len(squared)\n",
    "print(\"Standard deviation =\", math.sqrt(standard_dev))\n"
   ]
  },
  {
   "cell_type": "code",
   "execution_count": null,
   "metadata": {},
   "outputs": [],
   "source": []
  }
 ],
 "metadata": {
  "kernelspec": {
   "display_name": "Python 3",
   "language": "python",
   "name": "python3"
  },
  "language_info": {
   "codemirror_mode": {
    "name": "ipython",
    "version": 3
   },
   "file_extension": ".py",
   "mimetype": "text/x-python",
   "name": "python",
   "nbconvert_exporter": "python",
   "pygments_lexer": "ipython3",
   "version": "3.7.0"
  }
 },
 "nbformat": 4,
 "nbformat_minor": 2
}
