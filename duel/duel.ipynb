{
 "cells": [
  {
   "cell_type": "markdown",
   "metadata": {},
   "source": [
    "# Duel of sorcerers\n",
    "You are witnessing an epic battle between two powerful sorcerers: Gandalf and Saruman. Each sorcerer has 10 spells of variable power in their mind and they are going to throw them one after the other. The winner of the duel will be the one who wins more of those clashes between spells. Spells are represented as a list of 10 integers whose value equals the power of the spell.\n",
    "```\n",
    "gandalf = [10, 11, 13, 30, 22, 11, 10, 33, 22, 22]\n",
    "saruman = [23, 66, 12, 43, 12, 10, 44, 23, 12, 17]\n",
    "```\n",
    "For example:\n",
    "1. The first clash is won by Saruman: 10 against 23, wins 23\n",
    "2. The second clash wins Saruman: 11 against 66, wins 66\n",
    "3. etc.\n",
    "\n",
    "\n",
    "You will create two variables, one for each sorcerer, where the sum of clashes won will be stored. Depending on which variable is greater at the end of the duel, you will show one of the following three results on the screen:\n",
    "* Gandalf wins\n",
    "* Saruman wins\n",
    "* Tie\n",
    "\n",
    "<img src=\"images/content_lightning_bolt_big.jpg\" width=\"400\">"
   ]
  },
  {
   "cell_type": "markdown",
   "metadata": {},
   "source": [
    "## Solution"
   ]
  },
  {
   "cell_type": "code",
   "execution_count": 2,
   "metadata": {},
   "outputs": [],
   "source": [
    "# Assign spell power lists to variables\n",
    "\n",
    "gandalf = [10, 11, 13, 30, 22, 11, 10, 33, 22, 22]\n",
    "saruman = [23, 66, 12, 43, 12, 10, 44, 23, 12, 17]"
   ]
  },
  {
   "cell_type": "code",
   "execution_count": 3,
   "metadata": {},
   "outputs": [],
   "source": [
    "# Assign 0 to each variable that stores the victories\n",
    "gandalf_victory = 0\n",
    "saruman_victory = 0"
   ]
  },
  {
   "cell_type": "code",
   "execution_count": 4,
   "metadata": {},
   "outputs": [],
   "source": [
    "# Execution of spell clashes\n",
    "for i in range(len(gandalf)):\n",
    "    if gandalf[i]>saruman[i]:\n",
    "        gandalf_victory+=1\n",
    "    elif saruman[i]>gandalf[i]:\n",
    "        saruman_victory+1\n",
    "    else:\n",
    "        gandalf_victory=gandalf_victory\n",
    "        saruman_victory=saruman_victory"
   ]
  },
  {
   "cell_type": "code",
   "execution_count": 5,
   "metadata": {},
   "outputs": [
    {
     "name": "stdout",
     "output_type": "stream",
     "text": [
      "Gandalf wins\n"
     ]
    }
   ],
   "source": [
    "# We check who has won, do not forget the possibility of a draw.\n",
    "# Print the result based on the winner.\n",
    "\n",
    "if gandalf_victory>saruman_victory:\n",
    "    print(\"Gandalf wins\")\n",
    "elif saruman_victory<gandalf_victory:\n",
    "    print(\"Saruman wins\")\n",
    "else:\n",
    "    print(\"Tie\")"
   ]
  },
  {
   "cell_type": "markdown",
   "metadata": {},
   "source": [
    "## Goals\n",
    "\n",
    "1. Treatment of lists\n",
    "2. Use of **for loop**\n",
    "3. Use of conditional **if-elif-else**\n",
    "4. Use of the functions **range(), len()**\n",
    "5. Print"
   ]
  },
  {
   "cell_type": "markdown",
   "metadata": {},
   "source": [
    "## Bonus\n",
    "\n",
    "1. Spells now have a name and there is a dictionary that relates that name to a power.\n",
    "2. A sorcerer wins if he succeeds in winning 3 spell clashes in a row.\n",
    "3. Average of each of the spell lists.\n",
    "4. Standard deviation of each of the spell lists.\n",
    "\n",
    "```\n",
    "POWER = {\n",
    "    'Fireball': 50, \n",
    "    'Lightning bolt': 40, \n",
    "    'Magic arrow': 10, \n",
    "    'Black Tentacles': 25, \n",
    "    'Contagion': 45\n",
    "}\n",
    "\n",
    "gandalf = ['Fireball', 'Lightning bolt', 'Lightning bolt', 'Magic arrow', 'Fireball', \n",
    "           'Magic arrow', 'Lightning bolt', 'Fireball', 'Fireball', 'Fireball']\n",
    "saruman = ['Contagion', 'Contagion', 'Black Tentacles', 'Fireball', 'Black Tentacles', \n",
    "           'Lightning bolt', 'Magic arrow', 'Contagion', 'Magic arrow', 'Magic arrow']\n",
    "```\n",
    "\n",
    "Good luck!"
   ]
  },
  {
   "cell_type": "code",
   "execution_count": 6,
   "metadata": {},
   "outputs": [],
   "source": [
    "# 1. Spells now have a name and there is a dictionary that relates that name to a power.\n",
    "# variables\n",
    "\n",
    "POWER = {\n",
    "    'Fireball': 50, \n",
    "    'Lightning bolt': 40, \n",
    "    'Magic arrow': 10, \n",
    "    'Black Tentacles': 25, \n",
    "    'Contagion': 45\n",
    "}\n",
    "\n",
    "gandalf = ['Fireball', 'Lightning bolt', 'Lightning bolt', 'Magic arrow', 'Fireball', \n",
    "           'Magic arrow', 'Lightning bolt', 'Fireball', 'Magic arrow', 'Fireball']\n",
    "saruman = ['Contagion', 'Contagion', 'Black Tentacles', 'Fireball', 'Black Tentacles', \n",
    "           'Lightning bolt', 'Magic arrow', 'Contagion', 'Magic arrow', 'Magic arrow']"
   ]
  },
  {
   "cell_type": "code",
   "execution_count": 16,
   "metadata": {},
   "outputs": [
    {
     "name": "stdout",
     "output_type": "stream",
     "text": [
      "[50, 40, 40, 10, 50, 10, 40, 50, 10, 50]\n",
      "[45, 45, 25, 50, 25, 40, 10, 45, 10, 10]\n"
     ]
    }
   ],
   "source": [
    "# Assign spell power lists to variables\n",
    "gandalf_Power=[]\n",
    "saruman_Power=[]\n",
    "for spell in gandalf:\n",
    "    gandalf_Power.append(POWER[spell])\n",
    " \n",
    "for spell in saruman:\n",
    "    saruman_Power.append(POWER[spell])\n"
   ]
  },
  {
   "cell_type": "code",
   "execution_count": 47,
   "metadata": {},
   "outputs": [
    {
     "name": "stdout",
     "output_type": "stream",
     "text": [
      "Tie\n"
     ]
    }
   ],
   "source": [
    "# 2. A sorcerer wins if he succeeds in winning 3 spell clashes in a row.\n",
    "\n",
    "\n",
    "# Execution of spell clashes\n",
    "who_scores=[]\n",
    "for i in range(len(saruman_Power)):\n",
    "    if gandalf_Power[i]>saruman_Power[i]:\n",
    "        who_scores.append('g')\n",
    "    elif gandalf_Power[i]<saruman_Power[i]:\n",
    "        who_scores.append('s')\n",
    "    else:\n",
    "        who_scores.append('tie') \n",
    "\n",
    "# check for 3 wins in a row\n",
    "\n",
    "#we check for every entry in who_scores if it's neighbors (left and right) are the same. we don't do it for the \n",
    "#very first and very last entry, since this is checked bei their neighbours. \n",
    "sb_won = bool\n",
    "for i in range(1,len(who_scores)-2):\n",
    "    if (who_scores[i]==who_scores[i-1]) & (who_scores[i]==who_scores[i+1]):\n",
    "        sb_won = True\n",
    "        break\n",
    "    else: sb_won = False\n",
    "\n",
    "# check the winner\n",
    "if(not sb_won):\n",
    "    print('Tie')\n",
    "else:\n",
    "    for i in range(1,len(who_scores)-2):\n",
    "        if (who_scores[i]==who_scores[i-1]) & (who_scores[i]==who_scores[i+1]):\n",
    "            print(who_scores[i], 'won')"
   ]
  },
  {
   "cell_type": "code",
   "execution_count": 48,
   "metadata": {},
   "outputs": [
    {
     "name": "stdout",
     "output_type": "stream",
     "text": [
      "Gandalfs spell list average is 35.0 and Sarumans is 30.5\n"
     ]
    }
   ],
   "source": [
    "# 3. Average of each of the spell lists.\n",
    "ave_gandalf=sum(gandalf_Power)/len(gandalf_Power)\n",
    "ave_saruman=sum(saruman_Power)/len(saruman_Power)\n",
    "print('Gandalfs spell list average is', ave_gandalf, 'and Sarumans is', ave_saruman)\n"
   ]
  },
  {
   "cell_type": "code",
   "execution_count": 64,
   "metadata": {},
   "outputs": [
    {
     "name": "stdout",
     "output_type": "stream",
     "text": [
      "Standard deviation of Gandalfs spells list = 16.881943016134134\n",
      "Standard deviation of Sarumans spells list = 15.56438241627338\n"
     ]
    }
   ],
   "source": [
    "# 4. Standard deviation of each of the spell lists.\n",
    "import math\n",
    "#I assume, there exists a function for doint that, but I wanted to practice the steps.\n",
    "diff_gandalf=[]\n",
    "diff_saruman=[]\n",
    "for i in range(len(gandalf_Power)):\n",
    "    diff_gandalf.append(gandalf_Power[i]-ave_gandalf)\n",
    "    \n",
    "for i in range(len(gandalf_Power)):\n",
    "    diff_saruman.append(saruman_Power[i]-ave_saruman)\n",
    "\n",
    "square_gandalf=[]\n",
    "square_saruman=[]\n",
    "for i in range(len(diff_gandalf)):\n",
    "    square_gandalf.append(diff_gandalf[i]**2)\n",
    "    \n",
    "for i in range(len(diff_gandalf)):\n",
    "    square_saruman.append(diff_saruman[i]**2)    \n",
    "    \n",
    "print('Standard deviation of Gandalfs spells list =', math.sqrt(sum(square_gandalf)/len(square_gandalf)))\n",
    "print('Standard deviation of Sarumans spells list =', math.sqrt(sum(square_saruman)/len(square_saruman)))    "
   ]
  },
  {
   "cell_type": "code",
   "execution_count": null,
   "metadata": {},
   "outputs": [],
   "source": []
  }
 ],
 "metadata": {
  "kernelspec": {
   "display_name": "Python 3",
   "language": "python",
   "name": "python3"
  },
  "language_info": {
   "codemirror_mode": {
    "name": "ipython",
    "version": 3
   },
   "file_extension": ".py",
   "mimetype": "text/x-python",
   "name": "python",
   "nbconvert_exporter": "python",
   "pygments_lexer": "ipython3",
   "version": "3.7.0"
  }
 },
 "nbformat": 4,
 "nbformat_minor": 2
}
